{
 "cells": [
  {
   "cell_type": "markdown",
   "metadata": {},
   "source": [
    "# Excited states solvers"
   ]
  },
  {
   "cell_type": "code",
   "execution_count": 11,
   "metadata": {},
   "outputs": [],
   "source": [
    "from qiskit_nature.second_q.drivers import GaussianForcesDriver\n",
    "\n",
    "# if you ran Gaussian elsewhere and already have the output file\n",
    "#driver = GaussianForcesDriver(logfile=\"CO2_freq_B3LYP_631g.log\")\n",
    "driver = GaussianForcesDriver(logfile=\"CO2_out_fake.OUT\")\n",
    "\n",
    "# if you want to run the Gaussian job from Qiskit\n",
    "# driver = GaussianForcesDriver(\n",
    "#                 ['#p B3LYP/6-31g Freq=(Anharm) Int=Ultrafine SCF=VeryTight',\n",
    "#                  '',\n",
    "#                  'CO2 geometry optimization B3LYP/6-31g',\n",
    "#                  '',\n",
    "#                  '0 1',\n",
    "#                  'C  -0.848629  2.067624  0.160992',\n",
    "#                  'O   0.098816  2.655801 -0.159738',\n",
    "#                  'O  -1.796073  1.479446  0.481721',\n",
    "#                  '',\n",
    "#                  ''"
   ]
  },
  {
   "cell_type": "code",
   "execution_count": 12,
   "metadata": {},
   "outputs": [],
   "source": [
    "from qiskit_nature.second_q.problems import HarmonicBasis\n",
    "\n",
    "basis = HarmonicBasis([2, 2, 2, 2])"
   ]
  },
  {
   "cell_type": "code",
   "execution_count": null,
   "metadata": {},
   "outputs": [],
   "source": [
    "from qiskit_nature.second_q.problems import VibrationalStructureProblem\n",
    "from qiskit_nature.second_q.hamiltonians import hamiltonian\n",
    "\n",
    "vibrational_problem = driver.run(basis=basis)\n",
    "vibrational_problem.hamiltonian.truncation_order = 2\n",
    "main_op, aux_ops = vibrational_problem.second_q_ops()"
   ]
  },
  {
   "cell_type": "code",
   "execution_count": 10,
   "metadata": {},
   "outputs": [
    {
     "name": "stdout",
     "output_type": "stream",
     "text": [
      "SparsePauliOp(['IIIIIIII', 'IIIIIIIZ', 'IIIIIIZI', 'IIIIIZII', 'IIIIXXII', 'IIIIYYII', 'IIIIZIII', 'IIIZIIII', 'IIZIIIII', 'IZIIIIII', 'ZIIIIIII', 'IIIIIZIZ', 'IIIIXXIZ', 'IIIIYYIZ', 'IIIIZIIZ', 'IIIIIZZI', 'IIIIXXZI', 'IIIIYYZI', 'IIIIZIZI', 'IIIZIIIZ', 'IIIZIIZI', 'IIIZIZII', 'IIIZXXII', 'IIIZYYII', 'IIIZZIII', 'IIZIIIIZ', 'IIZIIIZI', 'IIZIIZII', 'IIZIXXII', 'IIZIYYII', 'IIZIZIII', 'IZIIIIIZ', 'IZIIIIZI', 'IZIIIZII', 'IZIIXXII', 'IZIIYYII', 'IZIIZIII', 'IZIZIIII', 'IZZIIIII', 'ZIIIIIIZ', 'ZIIIIIZI', 'ZIIIIZII', 'ZIIIXXII', 'ZIIIYYII', 'ZIIIZIII', 'ZIIZIIII', 'ZIZIIIII'],\n",
      "              coeffs=[ 4.85420003e+03+0.j, -6.18564597e+02+0.j, -1.86053067e+03+0.j,\n",
      " -3.49485635e+02+0.j, -2.58640489e+01+0.j, -2.58640489e+01+0.j,\n",
      " -1.04971911e+03+0.j, -1.11855863e+02+0.j, -3.42575167e+02+0.j,\n",
      " -1.11855863e+02+0.j, -3.42575167e+02+0.j,  1.23563563e+00+0.j,\n",
      "  2.20504355e+01+0.j,  2.20504355e+01+0.j,  3.70690688e+00+0.j,\n",
      "  3.70690688e+00+0.j,  6.61513066e+01+0.j,  6.61513066e+01+0.j,\n",
      "  1.11207206e+01+0.j, -2.55147281e+00+0.j, -7.65441844e+00+0.j,\n",
      " -1.04857484e+00+0.j, -1.06688183e+01+0.j, -1.06688183e+01+0.j,\n",
      " -3.14572453e+00+0.j, -7.65441844e+00+0.j, -2.29632553e+01+0.j,\n",
      " -3.14572453e+00+0.j, -3.20064548e+01+0.j, -3.20064548e+01+0.j,\n",
      " -9.43717359e+00+0.j, -2.55147281e+00+0.j, -7.65441844e+00+0.j,\n",
      " -1.04857484e+00+0.j, -1.06688183e+01+0.j, -1.06688183e+01+0.j,\n",
      " -3.14572453e+00+0.j,  1.77458750e+00+0.j,  5.32376250e+00+0.j,\n",
      " -7.65441844e+00+0.j, -2.29632553e+01+0.j, -3.14572453e+00+0.j,\n",
      " -3.20064548e+01+0.j, -3.20064548e+01+0.j, -9.43717359e+00+0.j,\n",
      "  5.32376250e+00+0.j,  1.59712875e+01+0.j])\n"
     ]
    }
   ],
   "source": [
    "from qiskit_nature.second_q.mappers import DirectMapper\n",
    "\n",
    "qubit_mapper = DirectMapper()\n",
    "qubit_op = qubit_mapper.map(main_op)\n",
    "print(qubit_op)"
   ]
  },
  {
   "cell_type": "markdown",
   "metadata": {},
   "source": [
    "We will also be sticking to the Jordan-Wigner mapping. To learn more about the various mappers available in Qiskit Nature, check out the [Qubit Mappers tutorial](06_qubit_mappers.ipynb)."
   ]
  },
  {
   "cell_type": "markdown",
   "metadata": {},
   "source": [
    "## The Solver\n",
    "\n",
    "After these steps we need to define a solver. The solver is the algorithm through which the excited states are computed. \n",
    "\n",
    "Let's first start with a purely classical example: the `NumPyEigensolver`. This algorithm exactly diagonalizes the Hamiltonian. Although it scales badly, it can be used on small systems to check the results of the quantum algorithms. \n",
    "Here, we are only interested to look at eigenstates with a given number of particles. To compute only those states a filter function can be passed to the `NumPyEigensolver`. A default filter function is already implemented in Qiskit Nature which you can use for this purpose.\n",
    "\n",
    "We also need to specify the number of eigenvalues to be computed by the `NumPyEigensolver`. For this particular system, we are interested in the ground and first three excited states, so we will set `k=4` (which defaults to 1 so be sure to set this, otherwise you will only obtain the ground state!)."
   ]
  },
  {
   "cell_type": "markdown",
   "metadata": {},
   "source": [
    "The excitation energies can also be accessed with the [qEOM algorithm](https://journals.aps.org/prresearch/abstract/10.1103/PhysRevResearch.2.043140). The EOM method finds the excitation energies (differences in energy between the ground state and all $n$th excited states) by solving the following pseudo-eigenvalue problem.\n",
    "\n",
    "$$\n",
    "\\begin{pmatrix}\n",
    "    \\text{M} & \\text{Q}\\\\ \n",
    "    \\text{Q*} & \\text{M*}\n",
    "\\end{pmatrix}\n",
    "\\begin{pmatrix}\n",
    "    \\text{X}_n\\\\ \n",
    "    \\text{Y}_n\n",
    "\\end{pmatrix}\n",
    "= E_{0n}\n",
    "\\begin{pmatrix}\n",
    "    \\text{V} & \\text{W}\\\\ \n",
    "    -\\text{W*} & -\\text{V*}\n",
    "\\end{pmatrix}\n",
    "\\begin{pmatrix}\n",
    "    \\text{X}_n\\\\ \n",
    "    \\text{Y}_n\n",
    "\\end{pmatrix}\n",
    "$$\n",
    "\n",
    "with \n",
    "\n",
    "$$\n",
    "M_{\\mu_{\\alpha}\\nu_{\\beta}} = \\langle0| [(\\hat{\\text{E}}_{\\mu_{\\alpha}}^{(\\alpha)})^{\\dagger},\\hat{\\text{H}}, \\hat{\\text{E}}_{\\nu_{\\beta}}^{(\\beta)}]|0\\rangle\n",
    "$$\n",
    "$$\n",
    "Q_{\\mu_{\\alpha}\\nu_{\\beta}} = -\\langle0| [(\\hat{\\text{E}}_{\\mu_{\\alpha}}^{(\\alpha)})^{\\dagger}, \\hat{\\text{H}}, (\\hat{\\text{E}}_{\\nu_{\\beta}}^{(\\beta)})^{\\dagger}]|0\\rangle\n",
    "$$\n",
    "$$\n",
    "V_{\\mu_{\\alpha}\\nu_{\\beta}} = \\langle0| [(\\hat{\\text{E}}_{\\mu_{\\alpha}}^{(\\alpha)})^{\\dagger}, \\hat{\\text{E}}_{\\nu_{\\beta}}^{(\\beta)}]|0\\rangle\n",
    "$$\n",
    "$$\n",
    "W_{\\mu_{\\alpha}\\nu_{\\beta}} = -\\langle0| [(\\hat{\\text{E}}_{\\mu_\\alpha}^{(\\alpha)})^{\\dagger}, (\\hat{\\text{E}}_{\\nu_{\\beta}}^{(\\beta)})^{\\dagger}]|0\\rangle\n",
    "$$\n",
    "\n",
    "Although the previous equation can be solved classically, each matrix element must be measured on the quantum computer with the corresponding ground state. \n",
    "To use the qEOM as a solver in Qiskit, we have to define a ground state calculation first, which will provide the required ground state information to the algorithm. With this the qEOM solver can be initialized like so:"
   ]
  },
  {
   "cell_type": "code",
   "execution_count": 6,
   "metadata": {},
   "outputs": [],
   "source": [
    "from qiskit_algorithms import VQE\n",
    "from qiskit_algorithms.optimizers import SLSQP\n",
    "from qiskit.primitives import Estimator\n",
    "from qiskit_nature.second_q.algorithms import GroundStateEigensolver, QEOM, EvaluationRule\n",
    "from qiskit_nature.second_q.circuit.library import UVCCSD, VSCF\n",
    "import numpy as np\n",
    "from qiskit import QuantumCircuit\n",
    "\n",
    "#Set up the problem using the vibrational Hamiltonian\n",
    "problem = vibrational_problem\n",
    "\n",
    "ansatz = UVCCSD([2, 2, 2, 2],  qubit_mapper, initial_state=VSCF(\n",
    "    [2,2,2,2],\n",
    "    qubit_mapper,\n",
    "))\n",
    "\n",
    "vqe = VQE(Estimator(), ansatz, SLSQP())\n",
    "estimator = Estimator()\n",
    "# This first part sets the ground state solver\n",
    "# see more about this part in the ground state calculation tutorial\n",
    "solver = VQE(estimator, ansatz, SLSQP())\n",
    "vqe.initial_point = np.zeros(ansatz.num_parameters)\n",
    "gse = GroundStateEigensolver(qubit_mapper, solver)\n",
    "\n",
    "# The qEOM algorithm is simply instantiated with the chosen ground state solver and Estimator primitive\n",
    "qeom_excited_states_solver = QEOM(gse, estimator, \"sd\", EvaluationRule.DIAG)"
   ]
  },
  {
   "cell_type": "code",
   "execution_count": 7,
   "metadata": {
    "scrolled": false
   },
   "outputs": [
    {
     "name": "stdout",
     "output_type": "stream",
     "text": [
      "=== GROUND STATE ===\n",
      " \n",
      "* Vibrational ground state energy (cm^-1): 2432.107742683936\n",
      "The number of occupied modals for each mode is: \n",
      "- Mode 0: 1.0\n",
      "- Mode 1: 1.0\n",
      "- Mode 2: 1.0\n",
      "- Mode 3: 1.0\n",
      " \n",
      "=== EXCITED STATES ===\n",
      " \n",
      "*   1: Vibrational excited state energy (cm^-1): 2908.88674891047\n",
      "The number of occupied modals for each mode is\n",
      "- Mode 0: 1.0\n",
      "- Mode 1: 1.0\n",
      "- Mode 2: 1.0\n",
      "- Mode 3: 1.0\n",
      " \n",
      "*   2: Vibrational excited state energy (cm^-1): 2908.88674928233\n",
      "The number of occupied modals for each mode is\n",
      "- Mode 0: 0.999999943545\n",
      "- Mode 1: 0.999999943545\n",
      "- Mode 2: 0.999999943545\n",
      "- Mode 3: 0.999999943545\n",
      " \n",
      "*   3: Vibrational excited state energy (cm^-1): 3424.363038866002\n",
      "The number of occupied modals for each mode is\n",
      "- Mode 0: 0.999999950952\n",
      "- Mode 1: 0.999999950952\n",
      "- Mode 2: 0.999999950952\n",
      "- Mode 3: 0.999999950952\n",
      " \n",
      "*   4: Vibrational excited state energy (cm^-1): 3842.8545999697\n",
      "The number of occupied modals for each mode is\n",
      "- Mode 0: 0.999999999966\n",
      "- Mode 1: 0.999999999966\n",
      "- Mode 2: 0.999999999966\n",
      "- Mode 3: 0.999999999966\n",
      " \n",
      "*   5: Vibrational excited state energy (cm^-1): 4301.382969571858\n",
      "The number of occupied modals for each mode is\n",
      "- Mode 0: 1.000000195656\n",
      "- Mode 1: 1.000000195656\n",
      "- Mode 2: 1.000000195656\n",
      "- Mode 3: 1.000000195656\n",
      " \n",
      "*   6: Vibrational excited state energy (cm^-1): 4301.382969635998\n",
      "The number of occupied modals for each mode is\n",
      "- Mode 0: 0.999999989166\n",
      "- Mode 1: 0.999999989166\n",
      "- Mode 2: 0.999999989166\n",
      "- Mode 3: 0.999999989166\n",
      " \n",
      "*   7: Vibrational excited state energy (cm^-1): 4913.961679961748\n",
      "The number of occupied modals for each mode is\n",
      "- Mode 0: 0.999999989119\n",
      "- Mode 1: 0.999999989119\n",
      "- Mode 2: 0.999999989119\n",
      "- Mode 3: 0.999999989119\n",
      " \n",
      "*   8: Vibrational excited state energy (cm^-1): 5375.897115021462\n",
      "The number of occupied modals for each mode is\n",
      "- Mode 0: 1.000000192018\n",
      "- Mode 1: 1.000000192018\n",
      "- Mode 2: 1.000000192018\n",
      "- Mode 3: 1.000000192018\n",
      " \n",
      "*   9: Vibrational excited state energy (cm^-1): 5375.897115081312\n",
      "The number of occupied modals for each mode is\n",
      "- Mode 0: 0.999999992045\n",
      "- Mode 1: 0.999999992045\n",
      "- Mode 2: 0.999999992045\n",
      "- Mode 3: 0.999999992045\n",
      " \n",
      "*  10: Vibrational excited state energy (cm^-1): 6410.512096269153\n",
      "The number of occupied modals for each mode is\n",
      "- Mode 0: 0.999999999604\n",
      "- Mode 1: 0.999999999604\n",
      "- Mode 2: 0.999999999604\n",
      "- Mode 3: 0.999999999604\n",
      " \n"
     ]
    }
   ],
   "source": [
    "\n",
    "qeom_results = qeom_excited_states_solver.solve(problem=vibrational_problem)\n",
    "print(qeom_results)"
   ]
  },
  {
   "cell_type": "code",
   "execution_count": 8,
   "metadata": {},
   "outputs": [
    {
     "data": {
      "text/html": [
       "<h3>Version Information</h3><table><tr><th>Software</th><th>Version</th></tr><tr><td><code>qiskit</code></td><td>1.1.0</td></tr><tr><td><code>qiskit_experiments</code></td><td>0.7.0</td></tr><tr><td><code>qiskit_nature</code></td><td>0.7.2</td></tr><tr><td><code>qiskit_algorithms</code></td><td>0.3.0</td></tr><tr><td><code>qiskit_ibm_experiment</code></td><td>0.4.7</td></tr><tr><th colspan='2'>System information</th></tr><tr><td>Python version</td><td>3.12.3</td></tr><tr><td>OS</td><td>Linux</td></tr><tr><td colspan='2'>Sat Sep 07 17:36:31 2024 CEST</td></tr></table>"
      ],
      "text/plain": [
       "<IPython.core.display.HTML object>"
      ]
     },
     "metadata": {},
     "output_type": "display_data"
    },
    {
     "data": {
      "text/html": [
       "<div style='width: 100%; background-color:#d5d9e0;padding-left: 10px; padding-bottom: 10px; padding-right: 10px; padding-top: 5px'><h3>This code is a part of a Qiskit project</h3><p>&copy; Copyright IBM 2017, 2024.</p><p>This code is licensed under the Apache License, Version 2.0. You may<br>obtain a copy of this license in the LICENSE.txt file in the root directory<br> of this source tree or at http://www.apache.org/licenses/LICENSE-2.0.<p>Any modifications or derivative works of this code must retain this<br>copyright notice, and modified files need to carry a notice indicating<br>that they have been altered from the originals.</p></div>"
      ],
      "text/plain": [
       "<IPython.core.display.HTML object>"
      ]
     },
     "metadata": {},
     "output_type": "display_data"
    }
   ],
   "source": [
    "import tutorial_magics\n",
    "\n",
    "%qiskit_version_table\n",
    "%qiskit_copyright"
   ]
  }
 ],
 "metadata": {
  "kernelspec": {
   "display_name": "qiskit",
   "language": "python",
   "name": "python3"
  },
  "language_info": {
   "codemirror_mode": {
    "name": "ipython",
    "version": 3
   },
   "file_extension": ".py",
   "mimetype": "text/x-python",
   "name": "python",
   "nbconvert_exporter": "python",
   "pygments_lexer": "ipython3",
   "version": "3.12.3"
  }
 },
 "nbformat": 4,
 "nbformat_minor": 2
}
